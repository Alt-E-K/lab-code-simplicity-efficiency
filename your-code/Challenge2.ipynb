{
 "cells": [
  {
   "cell_type": "code",
   "execution_count": 9,
   "metadata": {},
   "outputs": [],
   "source": [
    "#good practice to import the packages and modules first thing.\n",
    "import random\n",
    "\n",
    "#we also import string so we dont have to manually input it \n",
    "import string\n",
    "\n",
    "#we redifine the function to be more compact.It will take the input lenghtbut if it isnt correctly inputted will default to 12\n",
    "#we then return a string with joined letters chosen at random from all the printables that will be either as long as inputted\n",
    "#or 12\n",
    "def randomString(lenght=12):\n",
    "    lenght = int(input('Please enter a number: '))\n",
    "    letters = string.printable\n",
    "    return ''.join(random.choice(letters) for i in range(lenght))\n",
    "\n",
    "def BatchStringGenerator():\n",
    "    \n",
    "#we get the inputs and define the list that will compile the strings\n",
    "    n = int(input('How many random strings to generate? '))\n",
    "    a = int(input('Enter minimum string length: '))\n",
    "    b = int(input('Enter maximum string length: '))\n",
    "    r_all =[]\n",
    "    \n",
    "#we don't stop until input makes sense\n",
    "    while a > b:\n",
    "        a = int(input('Remember the minimum must be smaller than the maximum. Enter minimum string length: '))\n",
    "        b = int(input('Remember the minimum must be smaller than the maximum. Enter maximum string length: '))\n",
    "    \n",
    "#we go through the process n times\n",
    "    for i in range(n):\n",
    "\n",
    "#we check for equality of max and min\n",
    "        if a == b:\n",
    "            letters = string.printable\n",
    "            r= ''.join(random.choice(letters) for i in range(b))\n",
    "            r_all.append(r)\n",
    "#we check for actual range\n",
    "        else:\n",
    "            letters = string.printable\n",
    "            r=''.join(random.choice(letters) for i in range(a,b))\n",
    "            r_all.append(r)\n",
    "        \n",
    "    stringer=''.join(i for i in r_all)\n",
    "    print(stringer)\n"
   ]
  },
  {
   "cell_type": "code",
   "execution_count": 11,
   "metadata": {},
   "outputs": [
    {
     "name": "stdout",
     "output_type": "stream",
     "text": [
      "How many random strings to generate? 5\n",
      "Enter minimum string length: 7\n",
      "Enter maximum string length: 4\n",
      "Remember the minimum must be smaller than the maximum. Enter minimum string length: 4\n",
      "Remember the minimum must be smaller than the maximum. Enter maximum string length: 7\n",
      "0W0Ib^DrYij:I44\n"
     ]
    }
   ],
   "source": [
    "BatchStringGenerator()"
   ]
  },
  {
   "cell_type": "code",
   "execution_count": 13,
   "metadata": {},
   "outputs": [
    {
     "name": "stdout",
     "output_type": "stream",
     "text": [
      "Please enter a number: 45\n"
     ]
    },
    {
     "data": {
      "text/plain": [
       "'))n$xNpN-1P\\x0cj<\\x0b8aeB\\x0bPyv\\x0c*\\'QI\\x0b\"<_KU3\\\\67Ec>\\\\I\\\\v'"
      ]
     },
     "execution_count": 13,
     "metadata": {},
     "output_type": "execute_result"
    }
   ],
   "source": [
    "randomString()"
   ]
  },
  {
   "cell_type": "code",
   "execution_count": null,
   "metadata": {},
   "outputs": [],
   "source": []
  }
 ],
 "metadata": {
  "kernelspec": {
   "display_name": "Python 3",
   "language": "python",
   "name": "python3"
  },
  "language_info": {
   "codemirror_mode": {
    "name": "ipython",
    "version": 3
   },
   "file_extension": ".py",
   "mimetype": "text/x-python",
   "name": "python",
   "nbconvert_exporter": "python",
   "pygments_lexer": "ipython3",
   "version": "3.7.6"
  }
 },
 "nbformat": 4,
 "nbformat_minor": 4
}

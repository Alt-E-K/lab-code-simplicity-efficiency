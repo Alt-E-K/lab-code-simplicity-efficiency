{
 "cells": [
  {
   "cell_type": "code",
   "execution_count": 6,
   "metadata": {},
   "outputs": [
    {
     "name": "stdout",
     "output_type": "stream",
     "text": [
      "Welcome to this calculator!\n",
      "It can add and subtract whole numbers from zero to five\n",
      "Please choose your first number (zero to five): 8\n",
      "What do you want to do? plus or minus: +\n",
      "Please choose your second number (zero to five): 9\n",
      "Please choose your first number (zero to five). Written: eight\n",
      "What do you want to do? plus or minus: plus\n",
      "Please choose your second number (zero to five). Written: nine\n",
      "Please choose your first number (zero to five). Written: fuck\n",
      "What do you want to do? plus or minus: okay\n",
      "Please choose your second number (zero to five). Written: nope\n",
      "Please choose your first number (zero to five). Written: five\n",
      "What do you want to do? plus or minus: plus\n",
      "Please choose your second number (zero to five). Written: two\n",
      " The result of five plus two is: 7\n",
      "Thank you for using our calculator!\n"
     ]
    }
   ],
   "source": [
    "#welcome message can stay\n",
    "print('Welcome to this calculator!')\n",
    "print('It can add and subtract whole numbers from zero to five')\n",
    "\n",
    "#we define the acceptable input first\n",
    "desired_inputs_ac=['zero','one','two','three','four','five','Zero','One','Two','Three','Four','Five']\n",
    "desired_inputs_sign=['plus','minus','add','substract','Plus','Minus','Add','Substract']\n",
    "\n",
    "#we define the meanings of the word with this dictionary\n",
    "numbers = {'zero':0,'one':1,'two':2,'three':3,'four':4,'five':5,'Zero':0,'One':1,'Two':2,'Three':3,'Four':4,'Five':5}\n",
    "\n",
    "\n",
    "#we ask for input\n",
    "a = input('Please choose your first number (zero to five): ')\n",
    "b = input('What do you want to do? plus or minus: ')\n",
    "c = input('Please choose your second number (zero to five): ')\n",
    "\n",
    "#we loop until valid input is given  ¿would there be a way to not repeat the questions?  \n",
    "while a not in desired_inputs_ac or c not in desired_inputs_ac or b not in desired_inputs_sign:\n",
    "    a = input('Please choose your first number (zero to five). Written: ')\n",
    "    b = input('What do you want to do? plus or minus: ')\n",
    "    c = input('Please choose your second number (zero to five). Written: ')\n",
    "    continue\n",
    "    \n",
    "#we program for the event of addition\n",
    "if b == 'plus'or b=='Plus'or b=='add' or b=='Add':\n",
    "    a_num = numbers.get(a)\n",
    "    c_num = numbers.get(c)\n",
    "    result = a_num + c_num\n",
    "    print(f' The result of {a} {b} {c} is: {result}')\n",
    "    print('Thank you for using our calculator!')\n",
    "#we program for the event of substraction\n",
    "else:\n",
    "    a_num = numbers.get(a)\n",
    "    c_num = numbers.get(c)\n",
    "    result = a_num - c_num\n",
    "    print(f' The result of {a} {b} {c} is: {result}')\n",
    "    print('Thank you for using our calculator!')\n"
   ]
  },
  {
   "cell_type": "code",
   "execution_count": null,
   "metadata": {},
   "outputs": [],
   "source": []
  }
 ],
 "metadata": {
  "kernelspec": {
   "display_name": "Python 3",
   "language": "python",
   "name": "python3"
  },
  "language_info": {
   "codemirror_mode": {
    "name": "ipython",
    "version": 3
   },
   "file_extension": ".py",
   "mimetype": "text/x-python",
   "name": "python",
   "nbconvert_exporter": "python",
   "pygments_lexer": "ipython3",
   "version": "3.7.6"
  }
 },
 "nbformat": 4,
 "nbformat_minor": 4
}
